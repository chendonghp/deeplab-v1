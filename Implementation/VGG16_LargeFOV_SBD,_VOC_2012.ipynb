{
  "cells": [
    {
      "cell_type": "markdown",
      "metadata": {
        "id": "_jfyODGSm9qD"
      },
      "source": [
        "# VGG16_LargeFOV\n",
        "\n",
        "## 1. Environment Setup\n",
        "\n",
        "### 1.0. Check GPU\n"
      ]
    },
    {
      "cell_type": "code",
      "execution_count": null,
      "metadata": {
        "id": "TQWfOOAgm9qR"
      },
      "outputs": [],
      "source": [
        "! git clone https://github.com/chendonghp/deeplab-v1.git\n",
        "\n",
        "!pip install -U cython\n",
        "!pip install git+https://github.com/lucasb-eyer/pydensecrf.git\n",
        "\n",
        "from google.colab import drive\n",
        "drive.mount('/content/drive')\n",
        "\n",
        "%cd deeplab-v1/Implementation/\n",
        "! unzip /content/drive/MyDrive/data.zip -d ./dataset\n"
      ]
    },
    {
      "cell_type": "code",
      "execution_count": 2,
      "metadata": {
        "colab": {
          "base_uri": "https://localhost:8080/"
        },
        "id": "svF6kF4goHCz",
        "outputId": "0757c056-b43b-42e2-b112-97cccfe48bfa"
      },
      "outputs": [
        {
          "name": "stdout",
          "output_type": "stream",
          "text": [
            " augmentation.py  'DeepLab_v1 - SBD, VOC 2012.ipynb'   train.py\n",
            " best.pt\t   Inference.ipynb\t\t       utils.py\n",
            " data.py\t   __init__.py\t\t\t      'VGG16_LargeFOV - SBD, VOC 2012.ipynb'\n",
            " dataset\t   model.py\n"
          ]
        }
      ],
      "source": [
        "! ls"
      ]
    },
    {
      "cell_type": "code",
      "execution_count": 21,
      "metadata": {
        "id": "s2qedW5Hm9qX"
      },
      "outputs": [],
      "source": [
        "from data import LungImageDataset, colorDict\n",
        "from torch.utils.data import DataLoader\n",
        "import augmentation\n",
        "import model\n",
        "import train\n",
        "\n",
        "import torch\n",
        "import torchvision\n",
        "\n",
        "# Ignore Warning\n",
        "import warnings\n",
        "\n",
        "warnings.filterwarnings(action=\"ignore\")"
      ]
    },
    {
      "cell_type": "code",
      "execution_count": 22,
      "metadata": {
        "id": "u3zjKkwSm9qZ"
      },
      "outputs": [],
      "source": [
        "root = r\"./dataset\"\n",
        "\n",
        "train_batch_size = 30\n",
        "test_batch_size = 1\n",
        "\n",
        "train_ratio = 0.9\n",
        "size = 500\n",
        "train_size = int(size * train_ratio)\n",
        "train_range, val_range = (0, train_size), (train_size, size)"
      ]
    },
    {
      "cell_type": "markdown",
      "metadata": {
        "id": "E8iG5nkwm9qa"
      },
      "source": [
        "## 2. Data Preprocessing\n"
      ]
    },
    {
      "cell_type": "code",
      "execution_count": 23,
      "metadata": {
        "id": "rGHNfEMsm9qb",
        "scrolled": true
      },
      "outputs": [],
      "source": [
        "train_tf = augmentation.Mask_Aug(\n",
        "    transforms=[\n",
        "        augmentation.ToTensor(),\n",
        "        augmentation.PILToTensor(),  # HWC to CHW\n",
        "        # augmentation.Resize((256, 256)),\n",
        "        augmentation.RandomCrop((224, 224)),\n",
        "        augmentation.RandomHorizontalFlip(),\n",
        "        # augmentation.Normalize(mean=[0.485, 0.456, 0.406], std=[0.229, 0.224, 0.225]),\n",
        "    ]\n",
        ")\n",
        "\n",
        "val_tf = augmentation.Mask_Aug(\n",
        "    transforms=[\n",
        "        augmentation.ToTensor(),\n",
        "        augmentation.PILToTensor(),\n",
        "        # augmentation.Resize((256, 256)),\n",
        "        # augmentation.Normalize(mean=[0.485, 0.456, 0.406], std=[0.229, 0.224, 0.225]),\n",
        "    ]\n",
        ")\n",
        "\n",
        "train_dataset = LungImageDataset(root, size=train_range, transform=train_tf)\n",
        "val_dataset = LungImageDataset(root, size=val_range, transform=val_tf)\n",
        "\n",
        "\n",
        "train_loader = DataLoader(\n",
        "    train_dataset, batch_size=train_batch_size, shuffle=True, num_workers=4, pin_memory=True\n",
        ")\n",
        "val_loader = DataLoader(\n",
        "    val_dataset, batch_size=test_batch_size, shuffle=False, num_workers=4, pin_memory=True\n",
        ")\n",
        "\n",
        "\n",
        "# train_dataset = torchvision.datasets.SBDataset(root='./', image_set='train_noval', mode='segmentation', download=False, transforms=train_tf)\n",
        "# train_loader = torch.utils.data.DataLoader(train_dataset, batch_size=train_batch_size, shuffle=True, num_workers=4, pin_memory=True)\n",
        "\n",
        "# val_dataset = torchvision.datasets.VOCSegmentation(root='./', year='2012', image_set='val', download=False, transforms=val_tf)\n",
        "# val_loader = torch.utils.data.DataLoader(val_dataset, batch_size=test_batch_size, shuffle=False, num_workers=4, pin_memory=True)"
      ]
    },
    {
      "cell_type": "code",
      "execution_count": null,
      "metadata": {
        "id": "zM-adlurm9qd"
      },
      "outputs": [],
      "source": [
        "train_features, train_labels = next(iter(train_loader))"
      ]
    },
    {
      "cell_type": "code",
      "execution_count": 15,
      "metadata": {
        "colab": {
          "base_uri": "https://localhost:8080/"
        },
        "id": "jwxzzRNim9qf",
        "outputId": "13a0125f-3043-491e-ca03-072bbfdb2815"
      },
      "outputs": [
        {
          "data": {
            "text/plain": [
              "(torch.Size([30, 1, 224, 224]), torch.Size([30, 3, 224, 224]))"
            ]
          },
          "execution_count": 15,
          "metadata": {},
          "output_type": "execute_result"
        }
      ],
      "source": [
        "train_labels.shape, train_features.shape"
      ]
    },
    {
      "cell_type": "markdown",
      "metadata": {
        "id": "_hozsxKom9qg"
      },
      "source": [
        "## 3. Train Model\n"
      ]
    },
    {
      "cell_type": "code",
      "execution_count": 16,
      "metadata": {
        "id": "7akighT1m9qh"
      },
      "outputs": [],
      "source": [
        "num_classes = len(colorDict.keys())\n",
        "init_weights = True\n",
        "\n",
        "ignore_index = 255\n",
        "\n",
        "gpu_id = 0\n",
        "print_freq = 10\n",
        "epoch_print = 1\n",
        "\n",
        "save = True\n",
        "epochs = 100\n",
        "\n",
        "lr = 0.001\n",
        "momentum = 0.9\n",
        "weight_decay = 0.0005\n",
        "load_path = \"/content/drive/MyDrive\"\n",
        "save_path = \"/content/drive/MyDrive\"\n",
        "log_path = \"/content/drive/MyDrive\""
      ]
    },
    {
      "cell_type": "code",
      "execution_count": 25,
      "metadata": {
        "id": "sYUdmpDYm9qh",
        "scrolled": true
      },
      "outputs": [],
      "source": [
        "vgg16_largefov = train.VGG16_LargeFOV(\n",
        "    num_classes=num_classes,\n",
        "    init_weights=init_weights,\n",
        "    ignore_index=ignore_index,\n",
        "    gpu_id=gpu_id,\n",
        "    print_freq=print_freq,\n",
        "    epoch_print=epoch_print,\n",
        ")\n",
        "\n",
        "# VGG16_LargeFOV = train.VGG16_LargeFOV(num_classes=num_classes, init_weights=init_weights, ignore_index=ignore_index,\n",
        "#                                       gpu_id=gpu_id, print_freq=print_freq, epoch_print=epoch_print)"
      ]
    },
    {
      "cell_type": "code",
      "execution_count": null,
      "metadata": {
        "colab": {
          "base_uri": "https://localhost:8080/",
          "height": 1000
        },
        "id": "CrO7EGoOm9qi",
        "outputId": "5a696bec-07b1-4333-d832-0c4fb7f323aa",
        "scrolled": true
      },
      "outputs": [],
      "source": [
        "vgg16_largefov.train(\n",
        "    train_loader,\n",
        "    val_loader,\n",
        "    load_path=None,\n",
        "    save_path=save_path,\n",
        "    log_path=log_path,\n",
        "    epochs=epochs,\n",
        "    lr=lr,\n",
        "    momentum=momentum,\n",
        "    weight_decay=weight_decay,\n",
        ")\n",
        "# VGG16_LargeFOV.train(train_loader, val_loader, save=save, epochs=epochs, lr=lr, momentum=momentum, weight_decay=weight_decay)"
      ]
    },
    {
      "cell_type": "code",
      "execution_count": null,
      "metadata": {
        "id": "a_h31ZozrL2N"
      },
      "outputs": [],
      "source": []
    }
  ],
  "metadata": {
    "accelerator": "GPU",
    "colab": {
      "gpuType": "T4",
      "provenance": []
    },
    "kernelspec": {
      "display_name": "Python 3",
      "name": "python3"
    },
    "language_info": {
      "codemirror_mode": {
        "name": "ipython",
        "version": 3
      },
      "file_extension": ".py",
      "mimetype": "text/x-python",
      "name": "python",
      "nbconvert_exporter": "python",
      "pygments_lexer": "ipython3",
      "version": "3.10.13"
    }
  },
  "nbformat": 4,
  "nbformat_minor": 0
}
